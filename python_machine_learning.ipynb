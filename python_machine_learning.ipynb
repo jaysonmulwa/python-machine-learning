{
  "nbformat": 4,
  "nbformat_minor": 0,
  "metadata": {
    "colab": {
      "provenance": []
    },
    "kernelspec": {
      "name": "python3",
      "display_name": "Python 3"
    },
    "language_info": {
      "name": "python"
    }
  },
  "cells": [
    {
      "cell_type": "markdown",
      "source": [
        "Hello World"
      ],
      "metadata": {
        "id": "b5qCtRlvVKXA"
      }
    },
    {
      "cell_type": "code",
      "execution_count": 1,
      "metadata": {
        "colab": {
          "base_uri": "https://localhost:8080/"
        },
        "id": "IljehhKRT_77",
        "outputId": "85f617ae-3740-45a6-b32a-7b9321ab04fc"
      },
      "outputs": [
        {
          "output_type": "stream",
          "name": "stdout",
          "text": [
            "Hello world\n"
          ]
        }
      ],
      "source": [
        "print(\"Hello world\")"
      ]
    },
    {
      "cell_type": "markdown",
      "source": [
        "Variables"
      ],
      "metadata": {
        "id": "M-m4_mx5VO-u"
      }
    },
    {
      "cell_type": "code",
      "source": [
        "x=5\n",
        "print(x)\n",
        "print(type(x), type(str(x)))"
      ],
      "metadata": {
        "colab": {
          "base_uri": "https://localhost:8080/"
        },
        "id": "3b9JQC0jU1c0",
        "outputId": "33430a72-23ea-4f56-e18f-e9b50d8618fa"
      },
      "execution_count": 6,
      "outputs": [
        {
          "output_type": "stream",
          "name": "stdout",
          "text": [
            "5\n",
            "<class 'int'> <class 'str'>\n"
          ]
        }
      ]
    },
    {
      "cell_type": "markdown",
      "source": [
        "Lists"
      ],
      "metadata": {
        "id": "IGd6dZ31VQrU"
      }
    },
    {
      "cell_type": "code",
      "source": [
        "# Lists are an ordered, mutable (changeable) collection of values\n",
        "\n",
        "x = [3, \"hello\", 1.2]\n",
        "print (x, type(x), len(x))\n",
        "\n",
        "\n",
        "# append\n",
        "x.append(7)\n",
        "print(x)\n",
        "\n",
        "# replace\n",
        "x[2] = \"world\"\n",
        "print(x)\n",
        "\n",
        "# operations\n",
        "y = [1, 2]\n",
        "print(x + y)\n"
      ],
      "metadata": {
        "colab": {
          "base_uri": "https://localhost:8080/"
        },
        "id": "ZcCBffu2VSsI",
        "outputId": "dcbea56d-a4b4-4e69-b21a-492acdcb3164"
      },
      "execution_count": 13,
      "outputs": [
        {
          "output_type": "stream",
          "name": "stdout",
          "text": [
            "[3, 'hello', 1.2] <class 'list'> 3\n",
            "[3, 'hello', 1.2, 7]\n",
            "[3, 'hello', 'world', 7]\n",
            "[3, 'hello', 'world', 7, 1, 2]\n"
          ]
        }
      ]
    },
    {
      "cell_type": "markdown",
      "source": [],
      "metadata": {
        "id": "bujv-bjdVJec"
      }
    },
    {
      "cell_type": "markdown",
      "source": [
        "Tuples"
      ],
      "metadata": {
        "id": "8Ca4B51LWQnO"
      }
    },
    {
      "cell_type": "code",
      "source": [
        "# Tuples are collections that are ordered and immutable (unchangeable).\n",
        "\n",
        "x = (\"hello\", 3.0)\n",
        "\n",
        "y = (2, 1)\n",
        "\n",
        "z = x + y\n",
        "\n",
        "print(z)\n",
        "\n",
        "\n",
        "## error when trying to mutatue\n",
        "x[1] = 1.2"
      ],
      "metadata": {
        "colab": {
          "base_uri": "https://localhost:8080/",
          "height": 193
        },
        "id": "m_loa4jAWSTN",
        "outputId": "914dc3ce-778d-4732-cdbe-d58f17f5184f"
      },
      "execution_count": 23,
      "outputs": [
        {
          "output_type": "stream",
          "name": "stdout",
          "text": [
            "('hello', 3.0, 2, 1)\n"
          ]
        },
        {
          "output_type": "error",
          "ename": "TypeError",
          "evalue": "'tuple' object does not support item assignment",
          "traceback": [
            "\u001b[0;31m---------------------------------------------------------------------------\u001b[0m",
            "\u001b[0;31mTypeError\u001b[0m                                 Traceback (most recent call last)",
            "\u001b[0;32m<ipython-input-23-0951610d7baf>\u001b[0m in \u001b[0;36m<cell line: 13>\u001b[0;34m()\u001b[0m\n\u001b[1;32m     11\u001b[0m \u001b[0;34m\u001b[0m\u001b[0m\n\u001b[1;32m     12\u001b[0m \u001b[0;31m## error when trying to mutatue\u001b[0m\u001b[0;34m\u001b[0m\u001b[0;34m\u001b[0m\u001b[0m\n\u001b[0;32m---> 13\u001b[0;31m \u001b[0mx\u001b[0m\u001b[0;34m[\u001b[0m\u001b[0;36m1\u001b[0m\u001b[0;34m]\u001b[0m \u001b[0;34m=\u001b[0m \u001b[0;36m1.2\u001b[0m\u001b[0;34m\u001b[0m\u001b[0;34m\u001b[0m\u001b[0m\n\u001b[0m",
            "\u001b[0;31mTypeError\u001b[0m: 'tuple' object does not support item assignment"
          ]
        }
      ]
    },
    {
      "cell_type": "code",
      "source": [],
      "metadata": {
        "id": "0Ed1KqDTWdgZ"
      },
      "execution_count": null,
      "outputs": []
    },
    {
      "cell_type": "markdown",
      "source": [
        "Sets"
      ],
      "metadata": {
        "id": "HSN1M_e3XK0e"
      }
    },
    {
      "cell_type": "code",
      "source": [
        "# Sets are collections that are unordered and mutable.\n",
        "# Also -> every item in a set much be unique.\n",
        "\n",
        "text = \"Learn ML with Made With ML\"\n",
        "print (set(text))\n",
        "print (set(text.split(\" \")))"
      ],
      "metadata": {
        "colab": {
          "base_uri": "https://localhost:8080/"
        },
        "id": "4GK2L7u0XO23",
        "outputId": "7b621363-c25c-4e82-96cc-54cb233f1fc6"
      },
      "execution_count": 19,
      "outputs": [
        {
          "output_type": "stream",
          "name": "stdout",
          "text": [
            "{'M', 'w', 'a', 't', 'r', 'L', 'h', 'd', 'e', 'W', 'n', 'i', ' '}\n",
            "{'with', 'Learn', 'Made', 'ML', 'With'}\n"
          ]
        }
      ]
    },
    {
      "cell_type": "markdown",
      "source": [
        "Indexing & Slicing"
      ],
      "metadata": {
        "id": "kS7xJyKBXvRF"
      }
    },
    {
      "cell_type": "code",
      "source": [
        "# Indexing\n",
        "x = [3, \"hello\", 1.2]\n",
        "\n",
        "print (\"x[0]: \", x[0]) # 3\n",
        "print (\"x[1]: \", x[1]) # hello\n",
        "print (\"x[-1]: \", x[-1]) # 1.2\n",
        "print (\"x[-2]: \", x[-2]) # hello\n",
        "\n",
        "# Slicing\n",
        "print (\"x[:]: \", x[:]) # all indices [3, \"hello\", 1.2]\n",
        "print (\"x[1:]: \", x[1:]) # index 1 to the end of the list [\"hello\", 1.2]\n",
        "print (\"x[1:2]: \", x[1:2]) # index 1 to index 2 (not including index 2) [\"hello\"]\n",
        "print (\"x[:-1]: \", x[:-1]) # index 0 to last index (not including last index) [3, \"hello\"]\n"
      ],
      "metadata": {
        "colab": {
          "base_uri": "https://localhost:8080/"
        },
        "id": "uNqpWeZkXucv",
        "outputId": "f3c26f9d-188c-40e5-818a-991ae1edd38f"
      },
      "execution_count": 22,
      "outputs": [
        {
          "output_type": "stream",
          "name": "stdout",
          "text": [
            "x[0]:  3\n",
            "x[1]:  hello\n",
            "x[-1]:  1.2\n",
            "x[-2]:  hello\n",
            "x[:]:  [3, 'hello', 1.2]\n",
            "x[1:]:  ['hello', 1.2]\n",
            "x[1:2]:  ['hello']\n",
            "x[:-1]:  [3, 'hello']\n"
          ]
        }
      ]
    },
    {
      "cell_type": "markdown",
      "source": [
        "Dictionaries"
      ],
      "metadata": {
        "id": "hjuDUxqGYygj"
      }
    },
    {
      "cell_type": "code",
      "source": [
        "# Dictionaries are an unordered, mutable collection of key-value pairs.\n",
        "\n",
        "# Creating a dictionary, accessing keys\n",
        "person = {\"name\": \"Goku\",\n",
        "          \"eye_color\": \"brown\"}\n",
        "print (person)\n",
        "print (person[\"name\"])\n",
        "print (person[\"eye_color\"])\n",
        "\n",
        "# Assigning values\n",
        "person[\"eye_color\"] = \"green\"\n",
        "print (person)\n",
        "\n",
        "# Adding new key-value pairs\n",
        "person[\"age\"] = 24\n",
        "print (person)\n",
        "\n",
        "# Deleting a key-value pair\n",
        "del person[\"eye_color\"]\n",
        "print (person)\n",
        "\n",
        "# length\n",
        "print(len(person))"
      ],
      "metadata": {
        "colab": {
          "base_uri": "https://localhost:8080/"
        },
        "id": "Bq6yMRiVY1Sl",
        "outputId": "7a286e9a-54e1-462c-b5b3-a379b5a2c8f8"
      },
      "execution_count": 26,
      "outputs": [
        {
          "output_type": "stream",
          "name": "stdout",
          "text": [
            "{'name': 'Goku', 'eye_color': 'brown'}\n",
            "Goku\n",
            "brown\n",
            "{'name': 'Goku', 'eye_color': 'green'}\n",
            "{'name': 'Goku', 'eye_color': 'green', 'age': 24}\n",
            "{'name': 'Goku', 'age': 24}\n",
            "2\n"
          ]
        }
      ]
    },
    {
      "cell_type": "code",
      "source": [
        "# OrderedDict\n",
        "# even though native dictionaries are unordered, we can leverage the OrderedDict data structure to change that (useful if we want to iterate through keys in a certain order, etc.).\n",
        "\n",
        "from collections import OrderedDict\n",
        "\n",
        "# Native dict\n",
        "d = {}\n",
        "d[\"a\"] = 2\n",
        "d[\"c\"] = 3\n",
        "d[\"b\"] = 1\n",
        "print (d, d.items())\n",
        "\n",
        "# Order by keys\n",
        "print(OrderedDict(sorted(d.items())))\n",
        "\n",
        "# Order by values\n",
        "print(OrderedDict(sorted(d.items(), key=lambda x: x[1])))"
      ],
      "metadata": {
        "colab": {
          "base_uri": "https://localhost:8080/"
        },
        "id": "bItC6bJKaAV5",
        "outputId": "74d39dac-769e-44f5-b526-76011cff955b"
      },
      "execution_count": 28,
      "outputs": [
        {
          "output_type": "stream",
          "name": "stdout",
          "text": [
            "{'a': 2, 'c': 3, 'b': 1} dict_items([('a', 2), ('c', 3), ('b', 1)])\n",
            "OrderedDict([('a', 2), ('b', 1), ('c', 3)])\n",
            "OrderedDict([('b', 1), ('a', 2), ('c', 3)])\n"
          ]
        }
      ]
    },
    {
      "cell_type": "code",
      "source": [],
      "metadata": {
        "id": "coFDbU-ZaFk2"
      },
      "execution_count": null,
      "outputs": []
    },
    {
      "cell_type": "markdown",
      "source": [
        "If Statements"
      ],
      "metadata": {
        "id": "DGcUOkwbawTM"
      }
    },
    {
      "cell_type": "code",
      "source": [
        "x = 4\n",
        "\n",
        "if x < 1:\n",
        "    score = \"low\"\n",
        "elif x <= 4:\n",
        "    score = \"medium\"\n",
        "else:\n",
        "    score = \"high\"\n",
        "\n",
        "print (score)"
      ],
      "metadata": {
        "colab": {
          "base_uri": "https://localhost:8080/"
        },
        "id": "iT4iFhQVay7j",
        "outputId": "70c290eb-d0a3-4d32-ffb9-704a962421bf"
      },
      "execution_count": 29,
      "outputs": [
        {
          "output_type": "stream",
          "name": "stdout",
          "text": [
            "medium\n"
          ]
        }
      ]
    },
    {
      "cell_type": "markdown",
      "source": [
        "Loops"
      ],
      "metadata": {
        "id": "pX6UkMR1a_qT"
      }
    },
    {
      "cell_type": "code",
      "source": [
        "# For loops\n",
        "\n",
        "x = [3, \"hello\", 1.2]\n",
        "\n",
        "for i in x:\n",
        "    print (i)"
      ],
      "metadata": {
        "colab": {
          "base_uri": "https://localhost:8080/"
        },
        "id": "ozoRjaGVbBVh",
        "outputId": "c4741317-8010-4168-81c0-b5ab088c5fa8"
      },
      "execution_count": 33,
      "outputs": [
        {
          "output_type": "stream",
          "name": "stdout",
          "text": [
            "3\n",
            "hello\n",
            "1.2\n"
          ]
        }
      ]
    },
    {
      "cell_type": "code",
      "source": [
        "# While loops\n",
        "\n",
        "x = 3\n",
        "\n",
        "while x > 0:\n",
        "    x -= 1 # same as x = x - 1\n",
        "    print (x)"
      ],
      "metadata": {
        "colab": {
          "base_uri": "https://localhost:8080/"
        },
        "id": "uJ_Rb_98bJwx",
        "outputId": "f0f76484-e1a7-4085-bd97-6d4abc993a72"
      },
      "execution_count": 32,
      "outputs": [
        {
          "output_type": "stream",
          "name": "stdout",
          "text": [
            "2\n",
            "1\n",
            "0\n"
          ]
        }
      ]
    },
    {
      "cell_type": "code",
      "source": [
        "# List comprehension\n",
        "\n",
        "x = [3, \"hello\", 1.2]\n",
        "\n",
        "y = [i * 2 for i in x]\n",
        "\n",
        "print (y)"
      ],
      "metadata": {
        "colab": {
          "base_uri": "https://localhost:8080/"
        },
        "id": "GgcWVzmjbUkZ",
        "outputId": "f7dbd45b-2429-48b6-9200-766982f2a2bc"
      },
      "execution_count": 34,
      "outputs": [
        {
          "output_type": "stream",
          "name": "stdout",
          "text": [
            "[6, 'hellohello', 2.4]\n"
          ]
        }
      ]
    },
    {
      "cell_type": "code",
      "source": [
        "# Functions\n",
        "\n",
        "def f(*args, **kwargs):\n",
        "    x = args[0]\n",
        "    y = kwargs.get(\"y\")\n",
        "    print (f\"x: {x}, y: {y}\")\n",
        "\n",
        "f(5, y=2)"
      ],
      "metadata": {
        "colab": {
          "base_uri": "https://localhost:8080/"
        },
        "id": "MV7CNGN_bUg6",
        "outputId": "18f089bc-149a-4c0f-e372-bed4ca5c639c"
      },
      "execution_count": 38,
      "outputs": [
        {
          "output_type": "stream",
          "name": "stdout",
          "text": [
            "x: 5, y: 2\n"
          ]
        }
      ]
    },
    {
      "cell_type": "markdown",
      "source": [
        "Classes"
      ],
      "metadata": {
        "id": "B0xG5sW6dIuG"
      }
    },
    {
      "cell_type": "code",
      "source": [
        "# Creating the class\n",
        "class Pet(object):\n",
        "    \"\"\"Class object for a pet.\"\"\"\n",
        "\n",
        "    def __init__(self, species, name):\n",
        "        \"\"\"Initialize a Pet.\"\"\"\n",
        "        self.species = species\n",
        "        self.name = name\n",
        "\n",
        "    def __str__(self):\n",
        "        \"\"\"Output when printing an instance of a Pet.\"\"\"\n",
        "        return f\"{self.species} named {self.name}\"\n",
        "\n",
        "    def change_name(self, new_name):\n",
        "        \"\"\"Change the name of your Pet.\"\"\"\n",
        "        self.name = new_name\n",
        "\n",
        "\n",
        "\n",
        "# Creating an instance of a class\n",
        "my_dog = Pet(species=\"dog\",\n",
        "             name=\"Scooby\")\n",
        "print (my_dog)\n",
        "print (my_dog.name)\n",
        "my_dog.change_name(\"Rufus\")\n",
        "print (my_dog)"
      ],
      "metadata": {
        "colab": {
          "base_uri": "https://localhost:8080/"
        },
        "id": "kNnxiiwFdLrf",
        "outputId": "ef0967b8-0842-472c-d0d0-277bbe28347f"
      },
      "execution_count": 40,
      "outputs": [
        {
          "output_type": "stream",
          "name": "stdout",
          "text": [
            "dog named Scooby\n",
            "Scooby\n",
            "dog named Rufus\n"
          ]
        }
      ]
    },
    {
      "cell_type": "markdown",
      "source": [
        "Methods (& Inheritance)"
      ],
      "metadata": {
        "id": "j4-d7OO-elgZ"
      }
    },
    {
      "cell_type": "code",
      "source": [
        "class Dog(Pet):\n",
        "    def __init__(self, name, breed):\n",
        "        super().__init__(species=\"dog\", name=name)\n",
        "        self.breed = breed\n",
        "\n",
        "    def __str__(self):\n",
        "        return f\"{self.breed} named {self.name}\"\n",
        "\n",
        "    @classmethod\n",
        "    def from_dict(cls, d):\n",
        "        return cls(name=d[\"name\"], breed=d[\"breed\"])\n",
        "\n",
        "    @staticmethod\n",
        "    def is_cute(breed):\n",
        "        return True  # all animals are cute!\n",
        "\n",
        "\n",
        "\n",
        "scooby = Dog(breed=\"Great Dane\", name=\"Scooby\")\n",
        "print (scooby)\n",
        "\n",
        "#A @classmethod allows us to create class instances by passing in the uninstantiated class itself (cls). This is a great way to create (or load) classes from objects (ie. dictionaries).\n",
        "\n",
        "# Create instance\n",
        "d = {\"name\": \"Cassie\", \"breed\": \"Border Collie\"}\n",
        "cassie = Dog.from_dict(d=d)\n",
        "print(cassie)\n",
        "\n",
        "#A @staticmethod can be called from an uninstantiated class object so we can do things like this:\n",
        "\n",
        "# Static method\n",
        "Dog.is_cute(breed=\"Border Collie\")"
      ],
      "metadata": {
        "colab": {
          "base_uri": "https://localhost:8080/"
        },
        "id": "4NQXiAY2enoX",
        "outputId": "c4e1b536-d281-4378-b836-0997074fd15f"
      },
      "execution_count": 45,
      "outputs": [
        {
          "output_type": "stream",
          "name": "stdout",
          "text": [
            "Great Dane named Scooby\n",
            "Border Collie named Cassie\n"
          ]
        },
        {
          "output_type": "execute_result",
          "data": {
            "text/plain": [
              "True"
            ]
          },
          "metadata": {},
          "execution_count": 45
        }
      ]
    },
    {
      "cell_type": "code",
      "source": [],
      "metadata": {
        "id": "BZ-pBE21evA6"
      },
      "execution_count": 41,
      "outputs": []
    }
  ]
}